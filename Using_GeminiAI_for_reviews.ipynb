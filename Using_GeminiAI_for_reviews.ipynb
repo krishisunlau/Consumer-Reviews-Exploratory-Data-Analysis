{
  "nbformat": 4,
  "nbformat_minor": 0,
  "metadata": {
    "colab": {
      "provenance": []
    },
    "kernelspec": {
      "name": "python3",
      "display_name": "Python 3"
    },
    "language_info": {
      "name": "python"
    }
  },
  "cells": [
    {
      "cell_type": "code",
      "execution_count": 11,
      "metadata": {
        "id": "H97HrhCaBIYo"
      },
      "outputs": [],
      "source": [
        "import google.generativeai as genai\n",
        "import pandas as pd\n"
      ]
    },
    {
      "cell_type": "code",
      "source": [
        "df = pd.read_csv('amazon_data_final.csv')"
      ],
      "metadata": {
        "id": "7NZSh3hyHJUG"
      },
      "execution_count": 12,
      "outputs": []
    },
    {
      "cell_type": "code",
      "source": [
        "def chatbot(reviews, api_key):\n",
        "  genai.configure(api_key=api_key)\n",
        "  model = genai.GenerativeModel(\n",
        "    model_name=\"gemini-1.5-flash\",\n",
        "\n",
        "    generation_config = {\n",
        "      \"temperature\": 1,\n",
        "      \"top_p\": 0.95,\n",
        "      \"top_k\": 64,\n",
        "      \"max_output_tokens\": 8192,\n",
        "      \"response_mime_type\": \"text/plain\",\n",
        "    }\n",
        "  )\n",
        "  chat_session = model.start_chat(history =[])\n",
        "\n",
        "  prompt = \"Analyze the following reviews and summarize the key points:\\n\\n\" + \"\\n\\n\".join(reviews)\n",
        "\n",
        "  response = chat_session.send_message(prompt)\n",
        "\n",
        "  return response.text\n",
        "\n",
        "\n",
        "api_key = \"\"\n",
        "\n",
        "reviews = df['content'].tolist()\n",
        "\n",
        "chatbot_response = chatbot(reviews, api_key)\n",
        "\n",
        "print(chatbot_response)\n",
        "\n",
        "\n"
      ],
      "metadata": {
        "colab": {
          "base_uri": "https://localhost:8080/",
          "height": 1000
        },
        "id": "iiMgXQeFBTRs",
        "outputId": "b6cd2406-391e-4ed2-b6c4-e746c29c847d"
      },
      "execution_count": 15,
      "outputs": [
        {
          "output_type": "stream",
          "name": "stdout",
          "text": [
            "## Key Points from Bluetooth Speaker Reviews:\n",
            "\n",
            "**Overall:**\n",
            "\n",
            "* Bluetooth speakers continue to improve in sound quality, battery life, and portability.\n",
            "* Many users prioritize sound quality and portability, often choosing speakers from established brands like Bose, JBL, and Sony.\n",
            "* Features like waterproofing, dustproof design, and speakerphone functionality are highly valued.\n",
            "* Consumers are increasingly price-conscious, especially when considering speakers in the $100-$200 range.\n",
            "\n",
            "**Specific Speaker Highlights:**\n",
            "\n",
            "**Sony ULT Field 1:**\n",
            "\n",
            "* **Pros:** Excellent sound quality, great bass, portable, durable, IP67 water-resistant, good battery life, easy to pair with Bluetooth, ULT button enhances bass.\n",
            "* **Cons:**  Can sound muffled at high volumes, lacking in bass compared to some other models, battery life could be better. \n",
            "\n",
            "**JBL Charge 5:**\n",
            "\n",
            "* **Pros:** Excellent sound quality, great bass, waterproof, long battery life, built-in power bank, PartyBoost feature for linking multiple speakers, durable. \n",
            "* **Cons:**  Can be heavy, price can be higher compared to other brands, button timing for skipping tracks can be tricky. \n",
            "\n",
            "**Bose SoundLink Mini II Special Edition:**\n",
            "\n",
            "* **Pros:**  Excellent sound quality, well-balanced sound, compact and stylish design, long battery life, easy setup and connectivity, good for small to medium-sized rooms.\n",
            "* **Cons:**  Can be expensive, no EQ controls, some users find voice prompts annoying, battery life not as good as advertised by some customers.\n",
            "\n",
            "**Marshall Emberton II:**\n",
            "\n",
            "* **Pros:**  Great sound quality, impressive bass for a small speaker, compact and portable, stylish design, good battery life, decent app with equalization features. \n",
            "* **Cons:**  Single-button control can be challenging, app can be unreliable, some users find the sound too bass-heavy.\n",
            "\n",
            "**Beats Pill (2024):**\n",
            "\n",
            "* **Pros:**  Excellent sound quality, balanced mids and highs, punchy bass, stylish and durable design, long battery life, works as a speakerphone, connects seamlessly to Apple devices.\n",
            "* **Cons:**  Bass can be muddy at high volumes, no EQ controls in the app, some users find the design too bulky.\n",
            "\n",
            "**Ultimate Ears Megaboom 4:**\n",
            "\n",
            "* **Pros:**  Loud and clear sound, booming bass, waterproof, durable, drop-proof, floats, long battery life, party mode for linking multiple speakers, 360-degree sound.\n",
            "* **Cons:**  Bass can be distorted at high volumes, no microphone for calls, no charging port for other devices.\n",
            "\n",
            "**House of Marley Get Together Mini:**\n",
            "\n",
            "* **Pros:**  Excellent sound quality, warm tone, well-built with natural materials, good battery life, attractive design.\n",
            "* **Cons:**  Bulky size, battery life not as long as advertised by some users, lack of EQ controls. \n",
            "\n",
            "**Other Key Takeaways:**\n",
            "\n",
            "* **Sound Quality:**  Consumers are increasingly demanding great sound quality, even from small portable speakers.\n",
            "* **Battery Life:**  Long battery life is essential for portable speakers, especially for outdoor use.\n",
            "* **Durability:**  Waterproof, dustproof, and shockproof features are highly sought-after.\n",
            "* **App Functionality:**  Apps are becoming more common for Bluetooth speakers, but users want them to be reliable and easy to use.\n",
            "* **Price:**  Consumers are willing to pay for high-quality speakers, but price remains a significant factor, with many looking for value for money. \n",
            "\n"
          ]
        }
      ]
    }
  ]
}